{
 "cells": [
  {
   "metadata": {},
   "cell_type": "markdown",
   "source": "# Data Science HW",
   "id": "8d508baa441cfa7a"
  },
  {
   "metadata": {},
   "cell_type": "markdown",
   "source": [
    "## Introduction\n",
    "\n",
    "This is my submission for Module 6"
   ],
   "id": "38ddd98145f25e57"
  },
  {
   "metadata": {},
   "cell_type": "markdown",
   "source": [
    "Ex 4:\n",
    "\n",
    "List of DS languages:\n",
    "1. Python\n",
    "2. R\n",
    "3. SQL"
   ],
   "id": "eb68d2d4c0f5b898"
  },
  {
   "metadata": {},
   "cell_type": "markdown",
   "source": [
    "Ex 5:\n",
    "\n",
    "List of DS libs:\n",
    "1. pandas\n",
    "2. numpy\n",
    "3. scikit-learn\n",
    "4. matplotlib\n",
    "5. plotly\n",
    "6. seaborn"
   ],
   "id": "c267382791cc22b7"
  },
  {
   "metadata": {},
   "cell_type": "markdown",
   "source": [
    "Ex 6:\n",
    "\n",
    "| **Category**            | **Tool/Library**    | **Description**                        |\n",
    "|-------------------------|---------------------|----------------------------------------|\n",
    "| **Data Manipulation**   | pandas              | Tabular data processing                |\n",
    "|                         | NumPy               | Numerical computing with arrays       |\n",
    "|                         | Polars              | Fast DataFrame library                |\n",
    "| **Visualization**       | Matplotlib          | Basic plotting library                 |\n",
    "|                         | Seaborn             | Statistical data visualization         |\n",
    "|                         | Plotly              | Interactive web-based graphs           |\n",
    "| **Machine Learning**    | scikit-learn        | Classical ML algorithms                |\n",
    "|                         | XGBoost             | Gradient boosting for structured data |\n",
    "|                         | LightGBM            | Fast gradient boosting                 |\n",
    "| **Deep Learning**       | TensorFlow          | Deep learning (Google)                 |\n",
    "|                         | PyTorch             | Deep learning (Meta)                   |\n",
    "|                         | Keras               | High-level deep learning API           |\n",
    "| **Big Data**            | Apache Spark        | Distributed data processing            |\n",
    "|                         | Dask                | Parallel computing on local machines  |\n",
    "| **NLP**                 | NLTK                | Classical NLP tools                    |\n",
    "|                         | spaCy               | Modern NLP pipelines                   |\n",
    "|                         | Hugging Face Transformers | Pre-trained large language models |\n",
    "| **Databases/SQL**       | SQLAlchemy          | SQL toolkit for Python                 |\n",
    "|                         | SQLite/PostgreSQL   | Popular database systems               |\n",
    "|                         |                     |                                        |"
   ],
   "id": "1ecf9bdce25dc698"
  },
  {
   "metadata": {},
   "cell_type": "markdown",
   "source": [
    "Ex 7:\n",
    "\n",
    "arithmetic expression examples\n",
    "1. addition : 5 + 3 = 8\n",
    "2. sub: 5 - 3 = 2\n",
    "3. div: 5/3 = 1.6666666666666667\n",
    "4. mul: 5*3 = 15\n",
    "5. floor div 5/3 = 1\n",
    "6. power: 5**3\n",
    "7. modulus: 5%3=2"
   ],
   "id": "7004616902ee5833"
  },
  {
   "metadata": {
    "ExecuteTime": {
     "end_time": "2025-06-15T00:57:07.851215Z",
     "start_time": "2025-06-15T00:57:07.847445Z"
    }
   },
   "cell_type": "code",
   "source": [
    "#Ex 8:\n",
    "\n",
    "print(5+3)\n",
    "print(5*3)"
   ],
   "id": "736c695314ea4829",
   "outputs": [
    {
     "name": "stdout",
     "output_type": "stream",
     "text": [
      "8\n",
      "15\n"
     ]
    }
   ],
   "execution_count": 1
  },
  {
   "metadata": {
    "ExecuteTime": {
     "end_time": "2025-06-15T00:59:47.188380Z",
     "start_time": "2025-06-15T00:59:47.182739Z"
    }
   },
   "cell_type": "code",
   "source": [
    "#Ex 9: Convert minutes to hours\n",
    "\n",
    "def Convert(minutes):\n",
    "    du = minutes % 60\n",
    "    tron = minutes // 60\n",
    "    return '{} hours and {} minutes'.format(tron, du)\n",
    "\n",
    "print(Convert(55))"
   ],
   "id": "9dceb893610e98e5",
   "outputs": [
    {
     "name": "stdout",
     "output_type": "stream",
     "text": [
      "0 hours and 55 minutes\n"
     ]
    }
   ],
   "execution_count": 5
  },
  {
   "metadata": {},
   "cell_type": "markdown",
   "source": [
    "Ex 10:\n",
    "\n",
    "Objectives:\n",
    "- Understand the basics of [topic]\n",
    "- Learn how to apply [method/technique]\n",
    "- Analyze results and interpret findings\n",
    "- Develop skills for future [related task]"
   ],
   "id": "7988aeb1feb2f0c0"
  },
  {
   "metadata": {},
   "cell_type": "markdown",
   "source": [
    "Ex 11:\n",
    "\n",
    "My name is **Do Tuan Son**"
   ],
   "id": "5152718e1adaec0b"
  }
 ],
 "metadata": {
  "kernelspec": {
   "display_name": "Python 3",
   "language": "python",
   "name": "python3"
  },
  "language_info": {
   "codemirror_mode": {
    "name": "ipython",
    "version": 2
   },
   "file_extension": ".py",
   "mimetype": "text/x-python",
   "name": "python",
   "nbconvert_exporter": "python",
   "pygments_lexer": "ipython2",
   "version": "2.7.6"
  }
 },
 "nbformat": 4,
 "nbformat_minor": 5
}
